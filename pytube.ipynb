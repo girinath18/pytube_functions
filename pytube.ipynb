{
  "nbformat": 4,
  "nbformat_minor": 0,
  "metadata": {
    "colab": {
      "provenance": [],
      "authorship_tag": "ABX9TyPDCmhKIRoVtYQR6EyBgYwO",
      "include_colab_link": true
    },
    "kernelspec": {
      "name": "python3",
      "display_name": "Python 3"
    },
    "language_info": {
      "name": "python"
    }
  },
  "cells": [
    {
      "cell_type": "markdown",
      "metadata": {
        "id": "view-in-github",
        "colab_type": "text"
      },
      "source": [
        "<a href=\"https://colab.research.google.com/github/girinath18/pytube_functions/blob/main/pytube.ipynb\" target=\"_parent\"><img src=\"https://colab.research.google.com/assets/colab-badge.svg\" alt=\"Open In Colab\"/></a>"
      ]
    },
    {
      "cell_type": "code",
      "source": [
        "!pip install pytubefix"
      ],
      "metadata": {
        "colab": {
          "base_uri": "https://localhost:8080/"
        },
        "id": "bSkuMrx9A-Vr",
        "outputId": "7b7f9fc4-74bc-4772-a9e7-b74c72563e08"
      },
      "execution_count": 1,
      "outputs": [
        {
          "output_type": "stream",
          "name": "stdout",
          "text": [
            "Collecting pytubefix\n",
            "  Downloading pytubefix-6.16.2-py3-none-any.whl.metadata (5.3 kB)\n",
            "Downloading pytubefix-6.16.2-py3-none-any.whl (78 kB)\n",
            "\u001b[?25l   \u001b[90m━━━━━━━━━━━━━━━━━━━━━━━━━━━━━━━━━━━━━━━━\u001b[0m \u001b[32m0.0/78.7 kB\u001b[0m \u001b[31m?\u001b[0m eta \u001b[36m-:--:--\u001b[0m\r\u001b[2K   \u001b[90m━━━━━━━━━━━━━━━━━━━━━━━━━━━━━━━━━━━━━━━━\u001b[0m \u001b[32m78.7/78.7 kB\u001b[0m \u001b[31m2.9 MB/s\u001b[0m eta \u001b[36m0:00:00\u001b[0m\n",
            "\u001b[?25hInstalling collected packages: pytubefix\n",
            "Successfully installed pytubefix-6.16.2\n"
          ]
        }
      ]
    },
    {
      "cell_type": "markdown",
      "source": [
        "# **Download it in the High resolution**"
      ],
      "metadata": {
        "id": "zcU82rDkEIj7"
      }
    },
    {
      "cell_type": "code",
      "source": [
        "from pytubefix import YouTube\n",
        "from pytubefix.cli import on_progress\n",
        "\n",
        "url = \"https://www.youtube.com/watch?v=vz40kxCf6jQ\"\n",
        "\n",
        "yt = YouTube(url, on_progress_callback = on_progress)\n",
        "print(yt.title)\n",
        "\n",
        "ys = yt.streams.get_highest_resolution()\n",
        "ys.download()"
      ],
      "metadata": {
        "colab": {
          "base_uri": "https://localhost:8080/",
          "height": 53
        },
        "id": "OWX_1pfCEZ_a",
        "outputId": "eb9963a9-f67c-4a2f-a8fc-f065d994083f"
      },
      "execution_count": 3,
      "outputs": [
        {
          "output_type": "stream",
          "name": "stdout",
          "text": [
            "ML Day 4\n"
          ]
        },
        {
          "output_type": "execute_result",
          "data": {
            "text/plain": [
              "'/content/ML Day 4.mp4'"
            ],
            "application/vnd.google.colaboratory.intrinsic+json": {
              "type": "string"
            }
          },
          "metadata": {},
          "execution_count": 3
        }
      ]
    },
    {
      "cell_type": "markdown",
      "source": [
        "# **if you want to download complete playlists:**"
      ],
      "metadata": {
        "id": "aB93V2pRDFkj"
      }
    },
    {
      "cell_type": "code",
      "source": [
        "from pytubefix import Playlist\n",
        "from pytubefix.cli import on_progress\n",
        "\n",
        "url = \"https://www.youtube.com/watch?v=BVIoAILnZ4Q&list=PLvepBxfiuao1hO1vPOskQ1X4dbjGXF9bm\"\n",
        "\n",
        "pl = Playlist(url)\n",
        "\n",
        "for video in pl.videos:\n",
        "    ys = video.streams.get_audio_only()\n",
        "    ys.download(mp3=True)"
      ],
      "metadata": {
        "id": "vPXRXvyHDU2b"
      },
      "execution_count": null,
      "outputs": []
    },
    {
      "cell_type": "markdown",
      "source": [
        "# **get the channel name:**"
      ],
      "metadata": {
        "id": "PxlOYr-bCcxq"
      }
    },
    {
      "cell_type": "code",
      "source": [
        "#https://www.youtube.com/@delitecinemas\n",
        "\n",
        "\n",
        "from pytubefix import Channel\n",
        "\n",
        "c = Channel(\"https://www.youtube.com/@delitecinemas\")\n",
        "\n",
        "print(f'Channel name: {c.channel_name}')\n"
      ],
      "metadata": {
        "colab": {
          "base_uri": "https://localhost:8080/"
        },
        "id": "_PHnaJE6CjZy",
        "outputId": "93713724-e457-467a-9b3c-9be6d25ef405"
      },
      "execution_count": null,
      "outputs": [
        {
          "output_type": "stream",
          "name": "stdout",
          "text": [
            "Channel name: Delite Cinemas\n"
          ]
        }
      ]
    },
    {
      "cell_type": "markdown",
      "source": [
        "# **to download all videos from a channel:**"
      ],
      "metadata": {
        "id": "Jd4BB8qGBtc6"
      }
    },
    {
      "cell_type": "code",
      "source": [
        "from pytubefix import Channel\n",
        "\n",
        "c = Channel(\"https://www.youtube.com/@SonyMusicSouthVEVO\")\n",
        "\n",
        "print(f'Downloading videos by: {c.channel_name}')\n",
        "\n",
        "for video in c.videos:\n",
        "    download = video.streams.get_highest_resolution().download()"
      ],
      "metadata": {
        "id": "FGx_5OkpB3f7"
      },
      "execution_count": null,
      "outputs": []
    },
    {
      "cell_type": "markdown",
      "source": [
        "# **Searching**"
      ],
      "metadata": {
        "id": "v86R26FyBag6"
      }
    },
    {
      "cell_type": "code",
      "execution_count": null,
      "metadata": {
        "colab": {
          "base_uri": "https://localhost:8080/"
        },
        "id": "sx-syeK_AwDa",
        "outputId": "23e2b00d-b4d0-4dda-ee01-e3a3125f212e"
      },
      "outputs": [
        {
          "output_type": "stream",
          "name": "stdout",
          "text": [
            "Title: Good Practices with GitHub Issues\n",
            "URL: https://youtube.com/watch?v=v1AeHaopAYE\n",
            "Duration: 406 seg\n",
            "---\n",
            "Title: Git Best Practices - I Wish I Would Learn Them Sooner\n",
            "URL: https://youtube.com/watch?v=ThiINH4DV6Q\n",
            "Duration: 610 seg\n",
            "---\n",
            "Title: Managing a GitHub Organization Tools, Tips, and Best Practices - Mark Matyas\n",
            "URL: https://youtube.com/watch?v=1T4HAPBFbb0\n",
            "Duration: 1525 seg\n",
            "---\n",
            "Title: Git and GitHub Tutorials #5 - Understanding GitHub Issues\n",
            "URL: https://youtube.com/watch?v=TKJ4RdhyB5Y\n",
            "Duration: 397 seg\n",
            "---\n",
            "Title: GitHub Issues Tips and Guidelines\n",
            "URL: https://youtube.com/watch?v=kezinXSoV5A\n",
            "Duration: 852 seg\n",
            "---\n",
            "Title: Do you know the best way to manage GitHub Issues?\n",
            "URL: https://youtube.com/watch?v=OccRyzAS4Vc\n",
            "Duration: 534 seg\n",
            "---\n",
            "Title: 10 GitHub Best Practices for repository management\n",
            "URL: https://youtube.com/watch?v=VvgoOgWFiZY\n",
            "Duration: 599 seg\n",
            "---\n",
            "Title: Why are you being such a git about it? - Git Best Practices\n",
            "URL: https://youtube.com/watch?v=AN-iaHcXgYI\n",
            "Duration: 1640 seg\n",
            "---\n",
            "Title: GitHub - amakelovmandala A simple & elegant experiment tracking framework that integrates persi...\n",
            "URL: https://youtube.com/watch?v=dbYpz6xwFCI\n",
            "Duration: 109 seg\n",
            "---\n",
            "Title: Level up your GitHub Issues\n",
            "URL: https://youtube.com/watch?v=hNs5Gg_fEEs\n",
            "Duration: 499 seg\n",
            "---\n",
            "Title: GitHub Crash Course Responding to Code Reviews\n",
            "URL: https://youtube.com/watch?v=vSsUO_OP-f8\n",
            "Duration: 320 seg\n",
            "---\n",
            "Title: 13 Advanced (but useful) Git Techniques and Shortcuts\n",
            "URL: https://youtube.com/watch?v=ecK3EnyGD8o\n",
            "Duration: 486 seg\n",
            "---\n",
            "Title: Git for Professionals Tutorial - Tools & Concepts for Mastering Version Control with Git\n",
            "URL: https://youtube.com/watch?v=Uszj_k0DGsg\n",
            "Duration: 2442 seg\n",
            "---\n",
            "Title: Git for Beginners Best Practices for Teams (Part 7)\n",
            "URL: https://youtube.com/watch?v=Hd_BMpn4sBA\n",
            "Duration: 661 seg\n",
            "---\n",
            "Title: Best practices for securing GitHub in the cloud - Universe 2022\n",
            "URL: https://youtube.com/watch?v=Z5AKsVdZijE\n",
            "Duration: 662 seg\n",
            "---\n",
            "Title: GitHub Issues - planning and tracking for developers  OD119\n",
            "URL: https://youtube.com/watch?v=DuAyYsWbt5o\n",
            "Duration: 1315 seg\n",
            "---\n",
            "Title: Github Workflow for Issues and Pull Requests\n",
            "URL: https://youtube.com/watch?v=d3N2yeAaLkc\n",
            "Duration: 718 seg\n",
            "---\n",
            "Title: Contributing to Open Source Can Change Your Life - Here’s How to Do It\n",
            "URL: https://youtube.com/watch?v=CML6vfKjQss\n",
            "Duration: 197 seg\n",
            "---\n",
            "Title: Best Practices for Branch Protection\n",
            "URL: https://youtube.com/watch?v=gUJ52Shwtm0\n",
            "Duration: 583 seg\n",
            "---\n",
            "Title: GitHub Actions Secrets Security Best Practices\n",
            "URL: https://youtube.com/watch?v=2yHRq7aWDKM\n",
            "Duration: 389 seg\n",
            "---\n"
          ]
        }
      ],
      "source": [
        "from pytubefix import Search\n",
        "\n",
        "results = Search('Github Issue Best Practices')\n",
        "\n",
        "for video in results.videos:\n",
        "     print(f'Title: {video.title}')\n",
        "     print(f'URL: {video.watch_url}')\n",
        "     print(f'Duration: {video.length} seg')\n",
        "     print('---')"
      ]
    }
  ]
}